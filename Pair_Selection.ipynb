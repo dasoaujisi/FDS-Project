{
 "cells": [
  {
   "cell_type": "code",
   "execution_count": 1,
   "metadata": {},
   "outputs": [],
   "source": [
    "import pandas_datareader.data as web\n",
    "from datetime import datetime, timedelta\n",
    "import pandas as pd\n",
    "import matplotlib.pyplot as plt\n",
    "import statsmodels.api as sm\n",
    "import statsmodels.formula.api as smf\n",
    "import statsmodels.tsa.stattools as ts \n",
    "from statsmodels.tsa.stattools import adfuller\n",
    "from itertools import combinations\n",
    "import seaborn as sns\n",
    "import numpy as np\n",
    "import warnings\n",
    "warnings.filterwarnings(\"ignore\")\n",
    "from sklearn.preprocessing import StandardScaler\n",
    "from sklearn.decomposition import PCA\n",
    "from sklearn.cluster import KMeans\n",
    "from sklearn.manifold import TSNE\n",
    "from yellowbrick.cluster import KElbowVisualizer\n",
    "import requests"
   ]
  },
  {
   "cell_type": "code",
   "execution_count": 8,
   "metadata": {},
   "outputs": [],
   "source": [
    "%%capture\n",
    "%run -i -e main.ipynb"
   ]
  },
  {
   "cell_type": "code",
   "execution_count": 9,
   "metadata": {},
   "outputs": [],
   "source": [
    "# Copy relevant data \n",
    "selected_clusters = pd.DataFrame(DBSCAN_cluster.copy())\n",
    "train_data = data.copy()"
   ]
  },
  {
   "cell_type": "code",
   "execution_count": null,
   "metadata": {},
   "outputs": [],
   "source": [
    "# Filter the DataFrame based on the tickers in the specified cluster\n",
    "selected_data = train_data[selected_clusters[\"Stock\"]]"
   ]
  },
  {
   "cell_type": "markdown",
   "metadata": {},
   "source": [
    "## Pair Selection\n",
    "We check the identified clusters for stock pairs. In order to be considered as a pair, the following hypothese have to be met:   \n",
    "    1. Correlation of stock price evolution of 90% or higher (and different to 1)  \n",
    "    2. Check if the Cointergration hypothesis is met or not"
   ]
  },
  {
   "cell_type": "code",
   "execution_count": null,
   "metadata": {},
   "outputs": [
    {
     "name": "stdout",
     "output_type": "stream",
     "text": [
      "Top 10 pairs with highest correlation and cointegration:\n",
      "AME and IEX: Correlation at 0.9895348210168529 and Cointergation at 0.9981550340170154\n",
      "AWK and NEE: Correlation at 0.9868568115394872 and Cointergation at 0.9978297037556406\n",
      "ES and WEC: Correlation at 0.9805179496276685 and Cointergation at 0.9975536613887012\n",
      "CFG and RF: Correlation at 0.9823147370618126 and Cointergation at 0.9861014911475879\n",
      "DTE and PEG: Correlation at 0.9673594718837637 and Cointergation at 0.9991156230037618\n",
      "AEP and ETR: Correlation at 0.9713477275501267 and Cointergation at 0.9780128992633823\n",
      "D and WEC: Correlation at 0.9325603526246881 and Cointergation at 0.9990170390820523\n",
      "CFG and TFC: Correlation at 0.9632792989459736 and Cointergation at 0.9658750003393122\n",
      "CMS and D: Correlation at 0.9254266578531388 and Cointergation at 0.999116702185367\n",
      "D and ES: Correlation at 0.9237335777956273 and Cointergation at 0.9981272897711917\n",
      "\n",
      "A total of 13 pairs have been found\n"
     ]
    }
   ],
   "source": [
    "#Correlation test\n",
    "corr = selected_data.corr()\n",
    "pairs_list = set()\n",
    "\n",
    "for i in selected_clusters[\"Cluster\"].unique():\n",
    "    for pair in combinations(selected_clusters.loc[selected_clusters[\"Cluster\"] == i, \"Stock\"], 2):\n",
    "        stock1, stock2 = pair\n",
    "        correlation = abs(corr[stock1][stock2])\n",
    "\n",
    "        #Check if Corraelation is significant\n",
    "        if correlation > 0.9 and correlation != 1:\n",
    "            coint = sm.tsa.coint(selected_data[stock1], selected_data[stock2])\n",
    "        \n",
    "            # Check if the cointegration test is significant\n",
    "            if coint[1] < 0.05:\n",
    "                pairs_list.add((stock1, stock2, correlation,1-coint[1]))\n",
    "\n",
    "sorted_pairs_list = sorted(pairs_list, key=lambda x: x[3]*x[2], reverse=True)\n",
    "\n",
    "# Take the top 10 pairs with the highest correlation\n",
    "top_10_pairs = sorted_pairs_list[:10]\n",
    "\n",
    "# Print the top 10 pairs\n",
    "print(\"Top 10 pairs with highest correlation and cointegration:\")\n",
    "for pair in top_10_pairs:\n",
    "    print(pair[0]+\" and \"+pair[1]+\": Correlation at \"+str(pair[2])+\" and Cointergation at \"+str(pair[3]))\n",
    "print(\"\\nA total of \"+str(len(sorted_pairs_list))+\" pairs have been found.\")"
   ]
  },
  {
   "cell_type": "markdown",
   "metadata": {},
   "source": [
    "## Pair Visualization\n",
    "We reeintroduce the visualization through TSNE in order to inspect the chosen pairs"
   ]
  },
  {
   "cell_type": "code",
   "execution_count": null,
   "metadata": {},
   "outputs": [],
   "source": [
    "#Build DataFrame which collects all TSNE results from concerned stocks\n",
    "tsne_selected = []\n",
    "for x,y in ([row[0],row[1]] for row in top_10_pairs):\n",
    "    tsne_selected.append([x,tsne_result[ret_T.index.get_loc(x),0],tsne_result[ret_T.index.get_loc(x),1]])\n",
    "    tsne_selected.append([y,tsne_result[ret_T.index.get_loc(y),0],tsne_result[ret_T.index.get_loc(y),1]])\n",
    "\n",
    "# Convert the list to a set to get unique elements based on the first element of each sub-list\n",
    "tsne_selected = {tuple(row) for row in tsne_selected}\n",
    "tsne_selected = list(tsne_selected)\n",
    "tsne_selected = pd.DataFrame(tsne_selected, columns =[\"Stock\",\"x\",\"y\"])"
   ]
  },
  {
   "cell_type": "code",
   "execution_count": null,
   "metadata": {},
   "outputs": [
    {
     "data": {
      "image/png": "[encoded data removed]",
      "text/plain": [
       "<Figure size 800x550 with 1 Axes>"
      ]
     },
     "metadata": {},
     "output_type": "display_data"
    }
   ],
   "source": [
    "# Scatter plot\n",
    "plt.scatter(tsne_selected[\"x\"], tsne_selected[\"y\"], s=100, alpha=0.85, label=\"Stocks\")\n",
    "\n",
    "# Connect datapoints with lines based on top_10_pairs\n",
    "for pair in top_10_pairs:\n",
    "    x1, y1 = tsne_selected.loc[tsne_selected[\"Stock\"] == pair[0], [\"x\", \"y\"]].values.flatten()\n",
    "    x2, y2 = tsne_selected.loc[tsne_selected[\"Stock\"] == pair[1], [\"x\", \"y\"]].values.flatten()\n",
    "    plt.plot([x1, x2], [y1, y2], color='gray', linestyle='--', linewidth=1)\n",
    "\n",
    "# Annotate each point with its label\n",
    "for index, row in tsne_selected.iterrows():\n",
    "    plt.annotate(row[\"Stock\"], (row[\"x\"], row[\"y\"]+1), textcoords=\"offset points\", xytext=(5,5), ha='right')\n",
    "\n",
    "# Customize the plot as needed\n",
    "plt.title('Scatter Plot with Connected Lines and Labels')\n",
    "plt.axis(\"off\")\n",
    "\n",
    "# Show the plot\n",
    "plt.show()\n",
    "\n"
   ]
  }
 ],
 "metadata": {
  "kernelspec": {
   "display_name": "Python 3",
   "language": "python",
   "name": "python3"
  },
  "language_info": {
   "codemirror_mode": {
    "name": "ipython",
    "version": 3
   },
   "file_extension": ".py",
   "mimetype": "text/x-python",
   "name": "python",
   "nbconvert_exporter": "python",
   "pygments_lexer": "ipython3",
   "version": "3.9.0"
  }
 },
 "nbformat": 4,
 "nbformat_minor": 2
}
